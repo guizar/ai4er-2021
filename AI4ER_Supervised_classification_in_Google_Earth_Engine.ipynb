{
  "nbformat": 4,
  "nbformat_minor": 0,
  "metadata": {
    "colab": {
      "name": "AI4ER: Supervised classification in Google Earth Engine",
      "provenance": [],
      "collapsed_sections": [],
      "include_colab_link": true
    },
    "kernelspec": {
      "name": "python3",
      "display_name": "Python 3"
    }
  },
  "cells": [
    {
      "cell_type": "markdown",
      "metadata": {
        "id": "view-in-github",
        "colab_type": "text"
      },
      "source": [
        "<a href=\"https://colab.research.google.com/github/guizar/ai4er-2021/blob/main/AI4ER_Supervised_classification_in_Google_Earth_Engine.ipynb\" target=\"_parent\"><img src=\"https://colab.research.google.com/assets/colab-badge.svg\" alt=\"Open In Colab\"/></a>"
      ]
    },
    {
      "cell_type": "markdown",
      "metadata": {
        "id": "vglJofl0gMKv"
      },
      "source": [
        "# AI4ER Practical: Introduction to Google Earth Engine\n",
        "\n",
        "### Getting started\n",
        "\n",
        "Earth Engine is a cloud-based data processing platform tailored for geospatial analysis. It runs on Google's servers and includes a multi-petabyte data catalog consisting mostly of satellite imagery, including the entire Landsat archive (NASA) as well as complete archives of data from Sentinel-1 and Sentinel-2 missions (ESA). \n",
        "\n",
        "If you have not already done so, you will need to signup for an EE account to run this practical:\n",
        "https://signup.earthengine.google.com/#!/\n",
        "\n",
        "\n",
        "Reference materials:\n",
        "https://developers.google.com/earth-engine/guides/getstarted\n",
        "\n",
        "\n",
        "### Activating Earth Engine\n",
        "\n",
        "Run the following chunk to grant this notebook access to Earth Engine using your Google account."
      ]
    },
    {
      "cell_type": "code",
      "metadata": {
        "id": "XeFsiSp2aDL6",
        "colab": {
          "base_uri": "https://localhost:8080/"
        },
        "outputId": "fbf5afca-e471-4345-e25e-cad03f990c1e"
      },
      "source": [
        "import ee\n",
        "\n",
        "# Trigger the authentication flow.\n",
        "ee.Authenticate()\n",
        "\n",
        "# Initialize the library.\n",
        "ee.Initialize()"
      ],
      "execution_count": 46,
      "outputs": [
        {
          "output_type": "stream",
          "name": "stdout",
          "text": [
            "To authorize access needed by Earth Engine, open the following URL in a web browser and follow the instructions. If the web browser does not start automatically, please manually browse the URL below.\n",
            "\n",
            "    https://accounts.google.com/o/oauth2/auth?client_id=517222506229-vsmmajv00ul0bs7p89v5m89qs8eb9359.apps.googleusercontent.com&scope=https%3A%2F%2Fwww.googleapis.com%2Fauth%2Fearthengine+https%3A%2F%2Fwww.googleapis.com%2Fauth%2Fdevstorage.full_control&redirect_uri=urn%3Aietf%3Awg%3Aoauth%3A2.0%3Aoob&response_type=code&code_challenge=MMeng0DiutD2TTSlyhgmZGKa2Tz-bxjaM4l1XUS2oUk&code_challenge_method=S256\n",
            "\n",
            "The authorization workflow will generate a code, which you should paste in the box below. \n",
            "Enter verification code: 4/1AX4XfWjPM66z-68UMy4dUjk8xWGorWJ_aiEb6-r0y3UqtbW848whjHYt0g4\n",
            "\n",
            "Successfully saved authorization token.\n"
          ]
        }
      ]
    },
    {
      "cell_type": "markdown",
      "metadata": {
        "id": "JAn5ihMPUPrQ"
      },
      "source": [
        "## Interactive mapping using folium\n",
        "\n",
        "Folium is a python library based on [leaflet.js](https://leafletjs.com/) that you can use to make interactive maps. It suppoert common mapping web-based formats which makes it ideal for visualizing the data produced in Earth Engine. We will also define a function to helop us process Earth Engine tiles with folium to display these interactively:"
      ]
    },
    {
      "cell_type": "code",
      "metadata": {
        "id": "89EeGz_3lVEn"
      },
      "source": [
        "import folium\n",
        "\n",
        "# Source: \n",
        "\n",
        "def add_ee_layer(self, ee_image_object, vis_params, name):\n",
        "    \"\"\"Adds a method for displaying Earth Engine image tiles to folium map.\"\"\"\n",
        "    map_id_dict = ee.Image(ee_image_object).getMapId(vis_params)\n",
        "    folium.raster_layers.TileLayer(\n",
        "        tiles=map_id_dict['tile_fetcher'].url_format,\n",
        "        attr='Map Data &copy; <a href=\"https://earthengine.google.com/\">Google Earth Engine</a>',\n",
        "        name=name,\n",
        "        overlay=True,\n",
        "        control=True\n",
        "    ).add_to(self)\n",
        "\n",
        "# Add Earth Engine drawing method to folium.\n",
        "folium.Map.add_ee_layer = add_ee_layer"
      ],
      "execution_count": 87,
      "outputs": []
    },
    {
      "cell_type": "markdown",
      "metadata": {
        "id": "vy3UeoNcSxG7"
      },
      "source": [
        "## Supervised classification in Google Earth Engine\n",
        "In this practical we will produce a land-cover map of an area of interest using a supervised classification method. We will do this by fitting models with a set of training data of land-use categories (e.g forest, grassland, cropland, urban, water) and use these models to classify Landsat images into land-use categories.\n",
        "\n",
        "### Training labels\n",
        "Training classes to fit the models can be manually added on the map from the Earth Engine console (more of that below) or by loading a FeatureCollection object. In the following chunk we’ll load a set of spatial points with pre-labelled land-use categories for the island of Sao Miguel in the Azores (samples taken from the [ESA WorldCover 2020 dataset](https://developers.google.com/earth-engine/datasets/catalog/ESA_WorldCover_v100)). We’ll also produce a region object to delimit our area of interest."
      ]
    },
    {
      "cell_type": "code",
      "metadata": {
        "id": "sghoY68CS9Wj"
      },
      "source": [
        "samples  = ee.FeatureCollection(\"users/guizarcou/lc_azores\")\n",
        "region = ee.Geometry.Polygon(\n",
        "        [[[-25.858751237212292, 37.909865379396216],\n",
        "          [-25.858751237212292, 37.70316988303885],\n",
        "          [-25.117860734282605, 37.70316988303885],\n",
        "          [-25.117860734282605, 37.909865379396216]]])\n"
      ],
      "execution_count": 88,
      "outputs": []
    },
    {
      "cell_type": "markdown",
      "metadata": {
        "id": "bkITaFu5TH2G"
      },
      "source": [
        "### Training data: Landsat 8\n",
        "The Landsat 8 satellite captures wavelengths in the visible, near-infrared and short wave infrared at 30 mts resolution, which are separately stored in nine spectral bands. Our land-use classification will be based on the spectral signatures of six of these bands.\n",
        "\n",
        "To get the best results, images need to be as cloud-free as possible and corrected before passing them to a training model. In the next chunk we will load a collection of atmospherically corrected Landsat 8 images and run a function to select cloud-free pixels from images taken between 2015 and 2020.\n"
      ]
    },
    {
      "cell_type": "code",
      "metadata": {
        "id": "UNrheVhXTM_q"
      },
      "source": [
        "l8sr = ee.ImageCollection('LANDSAT/LC08/C01/T1_SR')\n",
        "\n",
        "# Function to mask from the Fmask band of Landsat 8 SR data.\n",
        "def maskL8sr(image):\n",
        "  # Bits 3 and 5 are cloud shadow and cloud, respectively.\n",
        "  cloudShadowBitMask = ee.Number(2).pow(3).int()\n",
        "  cloudsBitMask = ee.Number(2).pow(5).int()\n",
        "\n",
        "  # Get the pixel QA band.\n",
        "  qa = image.select('pixel_qa')\n",
        "\n",
        "  # Both flags should be set to zero, indicating clear conditions.\n",
        "  mask = qa.bitwiseAnd(cloudShadowBitMask).eq(0).And(qa.bitwiseAnd(cloudsBitMask).eq(0))\n",
        "\n",
        "  # Return the masked image, scaled to [0, 1].\n",
        "  return image.updateMask(mask).divide(10000)\n",
        "\n",
        "# Map the function over one year of data and take the median.\n",
        "image = l8sr.filterDate('2015-01-01', '2020-12-31').map(maskL8sr).median()"
      ],
      "execution_count": 89,
      "outputs": []
    },
    {
      "cell_type": "code",
      "metadata": {
        "colab": {
          "base_uri": "https://localhost:8080/"
        },
        "id": "NE8lo0nrTplb",
        "outputId": "236d9e33-4596-4734-c6d7-9ba3d9d43b0e"
      },
      "source": [
        "import folium\n",
        "# Set visualization parameters\n",
        "l8_vis_params = {\n",
        "    'min': 0, 'max': 0.3,\n",
        "    'bands': ['B4', 'B3', 'B2']}\n",
        "\n",
        "# Arrange layers \n",
        "ee_tiles = [image]\n",
        "\n",
        "# Arrange visualization parameters inside a list.\n",
        "ee_vis_params = [l8_vis_params]\n",
        "\n",
        "# Arrange layer names inside a list.\n",
        "ee_tiles_names = ['L8']\n",
        "\n",
        "# Create a new map.\n",
        "lon, lat = -25.46,37.77\n",
        "my_map = folium.Map(location=[lat, lon], zoom_start=12)\n",
        "\n",
        "# Add layers to the map using a loop.\n",
        "for tile, vis_param, name in zip(ee_tiles, ee_vis_params, ee_tiles_names):\n",
        "    my_map.add_ee_layer(tile, vis_param, name)\n",
        "\n",
        "folium.LayerControl(collapsed = False).add_to(my_map)\n",
        "\n",
        "# my_map"
      ],
      "execution_count": 90,
      "outputs": [
        {
          "output_type": "execute_result",
          "data": {
            "text/plain": [
              "<folium.map.LayerControl at 0x7f9989f2df10>"
            ]
          },
          "metadata": {},
          "execution_count": 90
        }
      ]
    },
    {
      "cell_type": "markdown",
      "metadata": {
        "id": "YpUPbv4aVy0P"
      },
      "source": [
        "Using the labels loaded in the samples object, we will sample pixels from the cleaned Landsat 8 mosaic and use these to train the classification tool. We will also define an object to select the bands that will be used for the classification:\n"
      ]
    },
    {
      "cell_type": "code",
      "metadata": {
        "id": "QXDdxWu6V7hg"
      },
      "source": [
        "bands = ['B2', 'B3', 'B4', 'B5', 'B6', 'B7']\n",
        "\n",
        "training = image.select(bands).sampleRegions(\n",
        "  collection= samples,\n",
        "  properties= ['class'],\n",
        "  scale= 30\n",
        ")"
      ],
      "execution_count": 91,
      "outputs": []
    },
    {
      "cell_type": "markdown",
      "metadata": {
        "id": "p1gsLsyCWIJq"
      },
      "source": [
        "### Classification \n",
        "Machine learning tools available in Earth Engine for pixel-based analyses include ~20 types of supervised classification, regression and unsupervised clustering methods. Here we will use a Classification And Regression Tree (CART) model and a Random Forest model. We wil compare their outputs in terms of their overall accuracy scores and their predictions over the area of interest\n",
        "\n"
      ]
    },
    {
      "cell_type": "code",
      "metadata": {
        "id": "jPrL_qxaWcWT"
      },
      "source": [
        "classifier_cart = ee.Classifier.smileCart().train(\n",
        "  features= training,\n",
        "  classProperty= 'class',\n",
        "  inputProperties= bands\n",
        ")\n",
        "\n",
        "\n",
        "classifier_rf = ee.Classifier.smileRandomForest(40).train(\n",
        "  features= training,\n",
        "  classProperty= 'class',\n",
        "  inputProperties= bands\n",
        ")"
      ],
      "execution_count": 92,
      "outputs": []
    },
    {
      "cell_type": "markdown",
      "metadata": {
        "id": "vY1GVE7rWhpN"
      },
      "source": [
        "Now we can visualise the result on a map. For reference, the classes used on the training set correspond to the following land-use classes:\n",
        "\n",
        "Class | Land-use\n",
        "------|------------\n",
        "10    | Trees\n",
        "30    | Grassland\n",
        "40    | Cropland\n",
        "50    | Built-up\n",
        "80    | Water"
      ]
    },
    {
      "cell_type": "code",
      "metadata": {
        "colab": {
          "base_uri": "https://localhost:8080/",
          "height": 1000
        },
        "id": "8S3wgTvfWlNs",
        "outputId": "d6be06a9-cdfd-46a1-abd8-6e5065d62668"
      },
      "source": [
        "classified_cart = image.select(bands).classify(classifier_cart)\n",
        "classified_rf = image.select(bands).classify(classifier_rf)\n",
        "\n",
        "\n",
        "# remap categories for plotting\n",
        "classified_cart = classified_cart.remap([10,30,40,50,80],[1,2,3,4,5])\n",
        "classified_rf = classified_rf.remap([10,30,40,50,80],[1,2,3,4,5])\n",
        "\n",
        "# Set visualization parameters\n",
        "pred_vis_params = {\"palette\": [\"006400\",\"ffff4c\",\"f096ff\",\"fa0000\",\"0064c8\"]}\n",
        "\n",
        "# Arrange layers \n",
        "ee_tiles = [image,classified_cart,classified_rf]\n",
        "\n",
        "# Arrange visualization parameters inside a list.\n",
        "ee_vis_params = [l8_vis_params,pred_vis_params,pred_vis_params]\n",
        "\n",
        "# Arrange layer names inside a list.\n",
        "ee_tiles_names = ['Landsat 8','CART','Random Forests']\n",
        "\n",
        "# Create a new map.\n",
        "lon, lat = -25.46,37.77\n",
        "my_map = folium.Map(location=[lat, lon], zoom_start=12)\n",
        "\n",
        "# Add layers to the map using a loop.\n",
        "for tile, vis_param, name in zip(ee_tiles, ee_vis_params, ee_tiles_names):\n",
        "    my_map.add_ee_layer(tile, vis_param, name)\n",
        "\n",
        "folium.LayerControl(collapsed = False).add_to(my_map)\n",
        "\n",
        "my_map"
      ],
      "execution_count": 93,
      "outputs": [
        {
          "output_type": "execute_result",
          "data": {
            "text/html": [
              "<div style=\"width:100%;\"><div style=\"position:relative;width:100%;height:0;padding-bottom:60%;\"><span style=\"color:#565656\">Make this Notebook Trusted to load map: File -> Trust Notebook</span><iframe src=\"about:blank\" style=\"position:absolute;width:100%;height:100%;left:0;top:0;border:none !important;\" data-html=%3C%21DOCTYPE%20html%3E%0A%3Chead%3E%20%20%20%20%0A%20%20%20%20%3Cmeta%20http-equiv%3D%22content-type%22%20content%3D%22text/html%3B%20charset%3DUTF-8%22%20/%3E%0A%20%20%20%20%3Cscript%3EL_PREFER_CANVAS%3Dfalse%3B%20L_NO_TOUCH%3Dfalse%3B%20L_DISABLE_3D%3Dfalse%3B%3C/script%3E%0A%20%20%20%20%3Cscript%20src%3D%22https%3A//cdn.jsdelivr.net/npm/leaflet%401.4.0/dist/leaflet.js%22%3E%3C/script%3E%0A%20%20%20%20%3Cscript%20src%3D%22https%3A//code.jquery.com/jquery-1.12.4.min.js%22%3E%3C/script%3E%0A%20%20%20%20%3Cscript%20src%3D%22https%3A//maxcdn.bootstrapcdn.com/bootstrap/3.2.0/js/bootstrap.min.js%22%3E%3C/script%3E%0A%20%20%20%20%3Cscript%20src%3D%22https%3A//cdnjs.cloudflare.com/ajax/libs/Leaflet.awesome-markers/2.0.2/leaflet.awesome-markers.js%22%3E%3C/script%3E%0A%20%20%20%20%3Clink%20rel%3D%22stylesheet%22%20href%3D%22https%3A//cdn.jsdelivr.net/npm/leaflet%401.4.0/dist/leaflet.css%22/%3E%0A%20%20%20%20%3Clink%20rel%3D%22stylesheet%22%20href%3D%22https%3A//maxcdn.bootstrapcdn.com/bootstrap/3.2.0/css/bootstrap.min.css%22/%3E%0A%20%20%20%20%3Clink%20rel%3D%22stylesheet%22%20href%3D%22https%3A//maxcdn.bootstrapcdn.com/bootstrap/3.2.0/css/bootstrap-theme.min.css%22/%3E%0A%20%20%20%20%3Clink%20rel%3D%22stylesheet%22%20href%3D%22https%3A//maxcdn.bootstrapcdn.com/font-awesome/4.6.3/css/font-awesome.min.css%22/%3E%0A%20%20%20%20%3Clink%20rel%3D%22stylesheet%22%20href%3D%22https%3A//cdnjs.cloudflare.com/ajax/libs/Leaflet.awesome-markers/2.0.2/leaflet.awesome-markers.css%22/%3E%0A%20%20%20%20%3Clink%20rel%3D%22stylesheet%22%20href%3D%22https%3A//rawcdn.githack.com/python-visualization/folium/master/folium/templates/leaflet.awesome.rotate.css%22/%3E%0A%20%20%20%20%3Cstyle%3Ehtml%2C%20body%20%7Bwidth%3A%20100%25%3Bheight%3A%20100%25%3Bmargin%3A%200%3Bpadding%3A%200%3B%7D%3C/style%3E%0A%20%20%20%20%3Cstyle%3E%23map%20%7Bposition%3Aabsolute%3Btop%3A0%3Bbottom%3A0%3Bright%3A0%3Bleft%3A0%3B%7D%3C/style%3E%0A%20%20%20%20%0A%20%20%20%20%3Cmeta%20name%3D%22viewport%22%20content%3D%22width%3Ddevice-width%2C%0A%20%20%20%20%20%20%20%20initial-scale%3D1.0%2C%20maximum-scale%3D1.0%2C%20user-scalable%3Dno%22%20/%3E%0A%20%20%20%20%3Cstyle%3E%23map_d6a3637dcf3246baa02fb8b9e4ed64cf%20%7B%0A%20%20%20%20%20%20%20%20position%3A%20relative%3B%0A%20%20%20%20%20%20%20%20width%3A%20100.0%25%3B%0A%20%20%20%20%20%20%20%20height%3A%20100.0%25%3B%0A%20%20%20%20%20%20%20%20left%3A%200.0%25%3B%0A%20%20%20%20%20%20%20%20top%3A%200.0%25%3B%0A%20%20%20%20%20%20%20%20%7D%0A%20%20%20%20%3C/style%3E%0A%3C/head%3E%0A%3Cbody%3E%20%20%20%20%0A%20%20%20%20%0A%20%20%20%20%3Cdiv%20class%3D%22folium-map%22%20id%3D%22map_d6a3637dcf3246baa02fb8b9e4ed64cf%22%20%3E%3C/div%3E%0A%3C/body%3E%0A%3Cscript%3E%20%20%20%20%0A%20%20%20%20%0A%20%20%20%20%0A%20%20%20%20%20%20%20%20var%20bounds%20%3D%20null%3B%0A%20%20%20%20%0A%0A%20%20%20%20var%20map_d6a3637dcf3246baa02fb8b9e4ed64cf%20%3D%20L.map%28%0A%20%20%20%20%20%20%20%20%27map_d6a3637dcf3246baa02fb8b9e4ed64cf%27%2C%20%7B%0A%20%20%20%20%20%20%20%20center%3A%20%5B37.77%2C%20-25.46%5D%2C%0A%20%20%20%20%20%20%20%20zoom%3A%2012%2C%0A%20%20%20%20%20%20%20%20maxBounds%3A%20bounds%2C%0A%20%20%20%20%20%20%20%20layers%3A%20%5B%5D%2C%0A%20%20%20%20%20%20%20%20worldCopyJump%3A%20false%2C%0A%20%20%20%20%20%20%20%20crs%3A%20L.CRS.EPSG3857%2C%0A%20%20%20%20%20%20%20%20zoomControl%3A%20true%2C%0A%20%20%20%20%20%20%20%20%7D%29%3B%0A%0A%0A%20%20%20%20%0A%20%20%20%20var%20tile_layer_da501b2aaf284842866fa38669a0d73e%20%3D%20L.tileLayer%28%0A%20%20%20%20%20%20%20%20%27https%3A//%7Bs%7D.tile.openstreetmap.org/%7Bz%7D/%7Bx%7D/%7By%7D.png%27%2C%0A%20%20%20%20%20%20%20%20%7B%0A%20%20%20%20%20%20%20%20%22attribution%22%3A%20null%2C%0A%20%20%20%20%20%20%20%20%22detectRetina%22%3A%20false%2C%0A%20%20%20%20%20%20%20%20%22maxNativeZoom%22%3A%2018%2C%0A%20%20%20%20%20%20%20%20%22maxZoom%22%3A%2018%2C%0A%20%20%20%20%20%20%20%20%22minZoom%22%3A%200%2C%0A%20%20%20%20%20%20%20%20%22noWrap%22%3A%20false%2C%0A%20%20%20%20%20%20%20%20%22opacity%22%3A%201%2C%0A%20%20%20%20%20%20%20%20%22subdomains%22%3A%20%22abc%22%2C%0A%20%20%20%20%20%20%20%20%22tms%22%3A%20false%0A%7D%29.addTo%28map_d6a3637dcf3246baa02fb8b9e4ed64cf%29%3B%0A%20%20%20%20var%20tile_layer_13eff5d14bc74ea3bd961f9775652ea9%20%3D%20L.tileLayer%28%0A%20%20%20%20%20%20%20%20%27https%3A//earthengine.googleapis.com/v1alpha/projects/earthengine-legacy/maps/a5d0f2e27a93c8d4bf9219deb615ff4a-4191100f2ff6be934f38d9355e94045f/tiles/%7Bz%7D/%7Bx%7D/%7By%7D%27%2C%0A%20%20%20%20%20%20%20%20%7B%0A%20%20%20%20%20%20%20%20%22attribution%22%3A%20%22Map%20Data%20%26copy%3B%20%3Ca%20href%3D%5C%22https%3A//earthengine.google.com/%5C%22%3EGoogle%20Earth%20Engine%3C/a%3E%22%2C%0A%20%20%20%20%20%20%20%20%22detectRetina%22%3A%20false%2C%0A%20%20%20%20%20%20%20%20%22maxNativeZoom%22%3A%2018%2C%0A%20%20%20%20%20%20%20%20%22maxZoom%22%3A%2018%2C%0A%20%20%20%20%20%20%20%20%22minZoom%22%3A%200%2C%0A%20%20%20%20%20%20%20%20%22noWrap%22%3A%20false%2C%0A%20%20%20%20%20%20%20%20%22opacity%22%3A%201%2C%0A%20%20%20%20%20%20%20%20%22subdomains%22%3A%20%22abc%22%2C%0A%20%20%20%20%20%20%20%20%22tms%22%3A%20false%0A%7D%29.addTo%28map_d6a3637dcf3246baa02fb8b9e4ed64cf%29%3B%0A%20%20%20%20var%20tile_layer_6e3580fc887244eaa6e4c0b091fce515%20%3D%20L.tileLayer%28%0A%20%20%20%20%20%20%20%20%27https%3A//earthengine.googleapis.com/v1alpha/projects/earthengine-legacy/maps/bf9f27448adbbfced31f3776eac1323c-02d79cb639f10c018b6ca76efb8c7230/tiles/%7Bz%7D/%7Bx%7D/%7By%7D%27%2C%0A%20%20%20%20%20%20%20%20%7B%0A%20%20%20%20%20%20%20%20%22attribution%22%3A%20%22Map%20Data%20%26copy%3B%20%3Ca%20href%3D%5C%22https%3A//earthengine.google.com/%5C%22%3EGoogle%20Earth%20Engine%3C/a%3E%22%2C%0A%20%20%20%20%20%20%20%20%22detectRetina%22%3A%20false%2C%0A%20%20%20%20%20%20%20%20%22maxNativeZoom%22%3A%2018%2C%0A%20%20%20%20%20%20%20%20%22maxZoom%22%3A%2018%2C%0A%20%20%20%20%20%20%20%20%22minZoom%22%3A%200%2C%0A%20%20%20%20%20%20%20%20%22noWrap%22%3A%20false%2C%0A%20%20%20%20%20%20%20%20%22opacity%22%3A%201%2C%0A%20%20%20%20%20%20%20%20%22subdomains%22%3A%20%22abc%22%2C%0A%20%20%20%20%20%20%20%20%22tms%22%3A%20false%0A%7D%29.addTo%28map_d6a3637dcf3246baa02fb8b9e4ed64cf%29%3B%0A%20%20%20%20var%20tile_layer_3c6edbd93f1d404c845666c4acbc312e%20%3D%20L.tileLayer%28%0A%20%20%20%20%20%20%20%20%27https%3A//earthengine.googleapis.com/v1alpha/projects/earthengine-legacy/maps/304fc510497b2b0142966b943d343d1b-d26887bc33a760eaf54a53be06b1baeb/tiles/%7Bz%7D/%7Bx%7D/%7By%7D%27%2C%0A%20%20%20%20%20%20%20%20%7B%0A%20%20%20%20%20%20%20%20%22attribution%22%3A%20%22Map%20Data%20%26copy%3B%20%3Ca%20href%3D%5C%22https%3A//earthengine.google.com/%5C%22%3EGoogle%20Earth%20Engine%3C/a%3E%22%2C%0A%20%20%20%20%20%20%20%20%22detectRetina%22%3A%20false%2C%0A%20%20%20%20%20%20%20%20%22maxNativeZoom%22%3A%2018%2C%0A%20%20%20%20%20%20%20%20%22maxZoom%22%3A%2018%2C%0A%20%20%20%20%20%20%20%20%22minZoom%22%3A%200%2C%0A%20%20%20%20%20%20%20%20%22noWrap%22%3A%20false%2C%0A%20%20%20%20%20%20%20%20%22opacity%22%3A%201%2C%0A%20%20%20%20%20%20%20%20%22subdomains%22%3A%20%22abc%22%2C%0A%20%20%20%20%20%20%20%20%22tms%22%3A%20false%0A%7D%29.addTo%28map_d6a3637dcf3246baa02fb8b9e4ed64cf%29%3B%0A%20%20%20%20%0A%20%20%20%20%20%20%20%20%20%20%20%20var%20layer_control_b4e726cef78640f0afbf8d52566c06a6%20%3D%20%7B%0A%20%20%20%20%20%20%20%20%20%20%20%20%20%20%20%20base_layers%20%3A%20%7B%20%22openstreetmap%22%20%3A%20tile_layer_da501b2aaf284842866fa38669a0d73e%2C%20%7D%2C%0A%20%20%20%20%20%20%20%20%20%20%20%20%20%20%20%20overlays%20%3A%20%7B%20%22Landsat%208%22%20%3A%20tile_layer_13eff5d14bc74ea3bd961f9775652ea9%2C%22CART%22%20%3A%20tile_layer_6e3580fc887244eaa6e4c0b091fce515%2C%22Random%20Forests%22%20%3A%20tile_layer_3c6edbd93f1d404c845666c4acbc312e%2C%20%7D%0A%20%20%20%20%20%20%20%20%20%20%20%20%20%20%20%20%7D%3B%0A%20%20%20%20%20%20%20%20%20%20%20%20L.control.layers%28%0A%20%20%20%20%20%20%20%20%20%20%20%20%20%20%20%20layer_control_b4e726cef78640f0afbf8d52566c06a6.base_layers%2C%0A%20%20%20%20%20%20%20%20%20%20%20%20%20%20%20%20layer_control_b4e726cef78640f0afbf8d52566c06a6.overlays%2C%0A%20%20%20%20%20%20%20%20%20%20%20%20%20%20%20%20%7Bposition%3A%20%27topright%27%2C%0A%20%20%20%20%20%20%20%20%20%20%20%20%20%20%20%20%20collapsed%3A%20false%2C%0A%20%20%20%20%20%20%20%20%20%20%20%20%20%20%20%20%20autoZIndex%3A%20true%0A%20%20%20%20%20%20%20%20%20%20%20%20%20%20%20%20%7D%29.addTo%28map_d6a3637dcf3246baa02fb8b9e4ed64cf%29%3B%0A%20%20%20%20%20%20%20%20%20%20%20%20%0A%20%20%20%20%20%20%20%20%0A%3C/script%3E onload=\"this.contentDocument.open();this.contentDocument.write(    decodeURIComponent(this.getAttribute('data-html')));this.contentDocument.close();\" allowfullscreen webkitallowfullscreen mozallowfullscreen></iframe></div></div>"
            ],
            "text/plain": [
              "<folium.folium.Map at 0x7f9989f30610>"
            ]
          },
          "metadata": {},
          "execution_count": 93
        }
      ]
    },
    {
      "cell_type": "markdown",
      "metadata": {
        "id": "Jr2t4slWYCLk"
      },
      "source": [
        "### Accuracy Assessments\n",
        "We will now assess the accuracy of our predictions. The first step is to partition the set of known values into training and testing sets. Reusing the classification training set, add a column of random numbers used to partition the known data where about 70% of the data will be used for training and 30% for testing:\n"
      ]
    },
    {
      "cell_type": "code",
      "metadata": {
        "id": "rC6h2AwiYEDL"
      },
      "source": [
        "withRandom = training.randomColumn()\n",
        "\n",
        "# Approximately 70% of our training data\n",
        "trainingPartition = withRandom.filter(ee.Filter.lt('random', 0.7));\n",
        "# Approximately 30% of our training data\n",
        "testingPartition = withRandom.filter(ee.Filter.gte('random', 0.7));\n",
        "\n",
        "# Trained with 70% of our data.\n",
        "trainedClassifier_cart = ee.Classifier.smileCart().train(\n",
        "  features=trainingPartition,\n",
        "  classProperty='class',\n",
        "  inputProperties=bands\n",
        ")\n",
        "\n",
        "# Now with RF\n",
        "trainedClassifier_rf = ee.Classifier.smileRandomForest(40).train(\n",
        "  features=training,\n",
        "  classProperty='class',\n",
        "  inputProperties=bands\n",
        ")"
      ],
      "execution_count": 94,
      "outputs": []
    },
    {
      "cell_type": "markdown",
      "metadata": {
        "id": "nw8Z80EGYX2c"
      },
      "source": [
        "Train the classifier with the `trainingSet` and examine the reported overall accuracy. These scores can be also broken down into producer's and consumer's accuracy scores. In the chunk below we'll produce accuracy scores for the CART and RF models:"
      ]
    },
    {
      "cell_type": "code",
      "metadata": {
        "colab": {
          "base_uri": "https://localhost:8080/"
        },
        "id": "LB1YgxGDYYQ5",
        "outputId": "69572bde-d16e-4872-9939-0e1e6b4d3ff8"
      },
      "source": [
        "test_cart = testingPartition.classify(trainedClassifier_cart)\n",
        "confusionMatrix_cart = test_cart.errorMatrix('class', 'classification')\n",
        "\n",
        "test_rf = testingPartition.classify(trainedClassifier_rf)\n",
        "confusionMatrix_rf = test_rf.errorMatrix('class', 'classification')\n",
        "\n",
        "print('CART Accuracy score:')\n",
        "confusionMatrix_cart.accuracy().getInfo()\n",
        "# print('Producer’s Accuracy:')\n",
        "# confusionMatrix.producersAccuracy().getInfo()\n",
        "# print('Consumer’s Accuracy:')\n",
        "# confusionMatrix.consumersAccuracy().getInfo()\n",
        "\n"
      ],
      "execution_count": 95,
      "outputs": [
        {
          "output_type": "stream",
          "name": "stdout",
          "text": [
            "CART Accuracy score:\n"
          ]
        },
        {
          "output_type": "execute_result",
          "data": {
            "text/plain": [
              "0.7074175824175825"
            ]
          },
          "metadata": {},
          "execution_count": 95
        }
      ]
    },
    {
      "cell_type": "code",
      "metadata": {
        "colab": {
          "base_uri": "https://localhost:8080/"
        },
        "id": "eZkSMj7N-tsN",
        "outputId": "fbe51ad6-bca2-4e0b-e4f8-cd2cabd07ea1"
      },
      "source": [
        "print('RF Accuracy score:')\n",
        "confusionMatrix_rf.accuracy().getInfo()"
      ],
      "execution_count": 96,
      "outputs": [
        {
          "output_type": "stream",
          "name": "stdout",
          "text": [
            "RF Accuracy score:\n"
          ]
        },
        {
          "output_type": "execute_result",
          "data": {
            "text/plain": [
              "0.9917582417582418"
            ]
          },
          "metadata": {},
          "execution_count": 96
        }
      ]
    },
    {
      "cell_type": "markdown",
      "metadata": {
        "id": "4KDSiFMgBHPn"
      },
      "source": [
        "We can also visualise the difference between the CART and RF predictions\n",
        "\n"
      ]
    },
    {
      "cell_type": "code",
      "metadata": {
        "colab": {
          "base_uri": "https://localhost:8080/",
          "height": 1000
        },
        "id": "tK1JodezBSNs",
        "outputId": "8abd0728-750f-4466-cd5a-d960ed261e8d"
      },
      "source": [
        "# get the differences between CART and RF\n",
        "difference = classified_cart.subtract(classified_rf)\n",
        "\n",
        "# Set visualization parameters\n",
        "dif_vis_params = {\"palette\": ['#b35806','#e08214','#fdb863','#fee0b6','#f7f7f7','#d8daeb','#b2abd2','#8073ac','#542788']}\n",
        "\n",
        "# Arrange layers \n",
        "ee_tiles = [image,classified,classified_rf,difference]\n",
        "\n",
        "# Arrange visualization parameters inside a list.\n",
        "ee_vis_params = [l8_vis_params,pred_vis_params,pred_vis_params,dif_vis_params]\n",
        "\n",
        "# Arrange layer names inside a list.\n",
        "ee_tiles_names = ['Landsat 8','CART','RF','Difference']\n",
        "\n",
        "# Create a new map.\n",
        "lon, lat = -25.46,37.77\n",
        "my_map = folium.Map(location=[lat, lon], zoom_start=12)\n",
        "\n",
        "# Add layers to the map using a loop.\n",
        "for tile, vis_param, name in zip(ee_tiles, ee_vis_params, ee_tiles_names):\n",
        "    my_map.add_ee_layer(tile, vis_param, name)\n",
        "\n",
        "folium.LayerControl(collapsed = False).add_to(my_map)\n",
        "\n",
        "my_map"
      ],
      "execution_count": 97,
      "outputs": [
        {
          "output_type": "execute_result",
          "data": {
            "text/html": [
              "<div style=\"width:100%;\"><div style=\"position:relative;width:100%;height:0;padding-bottom:60%;\"><span style=\"color:#565656\">Make this Notebook Trusted to load map: File -> Trust Notebook</span><iframe src=\"about:blank\" style=\"position:absolute;width:100%;height:100%;left:0;top:0;border:none !important;\" data-html=%3C%21DOCTYPE%20html%3E%0A%3Chead%3E%20%20%20%20%0A%20%20%20%20%3Cmeta%20http-equiv%3D%22content-type%22%20content%3D%22text/html%3B%20charset%3DUTF-8%22%20/%3E%0A%20%20%20%20%3Cscript%3EL_PREFER_CANVAS%3Dfalse%3B%20L_NO_TOUCH%3Dfalse%3B%20L_DISABLE_3D%3Dfalse%3B%3C/script%3E%0A%20%20%20%20%3Cscript%20src%3D%22https%3A//cdn.jsdelivr.net/npm/leaflet%401.4.0/dist/leaflet.js%22%3E%3C/script%3E%0A%20%20%20%20%3Cscript%20src%3D%22https%3A//code.jquery.com/jquery-1.12.4.min.js%22%3E%3C/script%3E%0A%20%20%20%20%3Cscript%20src%3D%22https%3A//maxcdn.bootstrapcdn.com/bootstrap/3.2.0/js/bootstrap.min.js%22%3E%3C/script%3E%0A%20%20%20%20%3Cscript%20src%3D%22https%3A//cdnjs.cloudflare.com/ajax/libs/Leaflet.awesome-markers/2.0.2/leaflet.awesome-markers.js%22%3E%3C/script%3E%0A%20%20%20%20%3Clink%20rel%3D%22stylesheet%22%20href%3D%22https%3A//cdn.jsdelivr.net/npm/leaflet%401.4.0/dist/leaflet.css%22/%3E%0A%20%20%20%20%3Clink%20rel%3D%22stylesheet%22%20href%3D%22https%3A//maxcdn.bootstrapcdn.com/bootstrap/3.2.0/css/bootstrap.min.css%22/%3E%0A%20%20%20%20%3Clink%20rel%3D%22stylesheet%22%20href%3D%22https%3A//maxcdn.bootstrapcdn.com/bootstrap/3.2.0/css/bootstrap-theme.min.css%22/%3E%0A%20%20%20%20%3Clink%20rel%3D%22stylesheet%22%20href%3D%22https%3A//maxcdn.bootstrapcdn.com/font-awesome/4.6.3/css/font-awesome.min.css%22/%3E%0A%20%20%20%20%3Clink%20rel%3D%22stylesheet%22%20href%3D%22https%3A//cdnjs.cloudflare.com/ajax/libs/Leaflet.awesome-markers/2.0.2/leaflet.awesome-markers.css%22/%3E%0A%20%20%20%20%3Clink%20rel%3D%22stylesheet%22%20href%3D%22https%3A//rawcdn.githack.com/python-visualization/folium/master/folium/templates/leaflet.awesome.rotate.css%22/%3E%0A%20%20%20%20%3Cstyle%3Ehtml%2C%20body%20%7Bwidth%3A%20100%25%3Bheight%3A%20100%25%3Bmargin%3A%200%3Bpadding%3A%200%3B%7D%3C/style%3E%0A%20%20%20%20%3Cstyle%3E%23map%20%7Bposition%3Aabsolute%3Btop%3A0%3Bbottom%3A0%3Bright%3A0%3Bleft%3A0%3B%7D%3C/style%3E%0A%20%20%20%20%0A%20%20%20%20%3Cmeta%20name%3D%22viewport%22%20content%3D%22width%3Ddevice-width%2C%0A%20%20%20%20%20%20%20%20initial-scale%3D1.0%2C%20maximum-scale%3D1.0%2C%20user-scalable%3Dno%22%20/%3E%0A%20%20%20%20%3Cstyle%3E%23map_ef78146a6cc34b31919d40b31c5fa08a%20%7B%0A%20%20%20%20%20%20%20%20position%3A%20relative%3B%0A%20%20%20%20%20%20%20%20width%3A%20100.0%25%3B%0A%20%20%20%20%20%20%20%20height%3A%20100.0%25%3B%0A%20%20%20%20%20%20%20%20left%3A%200.0%25%3B%0A%20%20%20%20%20%20%20%20top%3A%200.0%25%3B%0A%20%20%20%20%20%20%20%20%7D%0A%20%20%20%20%3C/style%3E%0A%3C/head%3E%0A%3Cbody%3E%20%20%20%20%0A%20%20%20%20%0A%20%20%20%20%3Cdiv%20class%3D%22folium-map%22%20id%3D%22map_ef78146a6cc34b31919d40b31c5fa08a%22%20%3E%3C/div%3E%0A%3C/body%3E%0A%3Cscript%3E%20%20%20%20%0A%20%20%20%20%0A%20%20%20%20%0A%20%20%20%20%20%20%20%20var%20bounds%20%3D%20null%3B%0A%20%20%20%20%0A%0A%20%20%20%20var%20map_ef78146a6cc34b31919d40b31c5fa08a%20%3D%20L.map%28%0A%20%20%20%20%20%20%20%20%27map_ef78146a6cc34b31919d40b31c5fa08a%27%2C%20%7B%0A%20%20%20%20%20%20%20%20center%3A%20%5B37.77%2C%20-25.46%5D%2C%0A%20%20%20%20%20%20%20%20zoom%3A%2012%2C%0A%20%20%20%20%20%20%20%20maxBounds%3A%20bounds%2C%0A%20%20%20%20%20%20%20%20layers%3A%20%5B%5D%2C%0A%20%20%20%20%20%20%20%20worldCopyJump%3A%20false%2C%0A%20%20%20%20%20%20%20%20crs%3A%20L.CRS.EPSG3857%2C%0A%20%20%20%20%20%20%20%20zoomControl%3A%20true%2C%0A%20%20%20%20%20%20%20%20%7D%29%3B%0A%0A%0A%20%20%20%20%0A%20%20%20%20var%20tile_layer_8ba7e3ac7db54efda8a85af489100c0e%20%3D%20L.tileLayer%28%0A%20%20%20%20%20%20%20%20%27https%3A//%7Bs%7D.tile.openstreetmap.org/%7Bz%7D/%7Bx%7D/%7By%7D.png%27%2C%0A%20%20%20%20%20%20%20%20%7B%0A%20%20%20%20%20%20%20%20%22attribution%22%3A%20null%2C%0A%20%20%20%20%20%20%20%20%22detectRetina%22%3A%20false%2C%0A%20%20%20%20%20%20%20%20%22maxNativeZoom%22%3A%2018%2C%0A%20%20%20%20%20%20%20%20%22maxZoom%22%3A%2018%2C%0A%20%20%20%20%20%20%20%20%22minZoom%22%3A%200%2C%0A%20%20%20%20%20%20%20%20%22noWrap%22%3A%20false%2C%0A%20%20%20%20%20%20%20%20%22opacity%22%3A%201%2C%0A%20%20%20%20%20%20%20%20%22subdomains%22%3A%20%22abc%22%2C%0A%20%20%20%20%20%20%20%20%22tms%22%3A%20false%0A%7D%29.addTo%28map_ef78146a6cc34b31919d40b31c5fa08a%29%3B%0A%20%20%20%20var%20tile_layer_1806dc4eeb5a4877bb9d07e24af96c61%20%3D%20L.tileLayer%28%0A%20%20%20%20%20%20%20%20%27https%3A//earthengine.googleapis.com/v1alpha/projects/earthengine-legacy/maps/a5d0f2e27a93c8d4bf9219deb615ff4a-b2f8f4102f6617dc964450c0823c94b2/tiles/%7Bz%7D/%7Bx%7D/%7By%7D%27%2C%0A%20%20%20%20%20%20%20%20%7B%0A%20%20%20%20%20%20%20%20%22attribution%22%3A%20%22Map%20Data%20%26copy%3B%20%3Ca%20href%3D%5C%22https%3A//earthengine.google.com/%5C%22%3EGoogle%20Earth%20Engine%3C/a%3E%22%2C%0A%20%20%20%20%20%20%20%20%22detectRetina%22%3A%20false%2C%0A%20%20%20%20%20%20%20%20%22maxNativeZoom%22%3A%2018%2C%0A%20%20%20%20%20%20%20%20%22maxZoom%22%3A%2018%2C%0A%20%20%20%20%20%20%20%20%22minZoom%22%3A%200%2C%0A%20%20%20%20%20%20%20%20%22noWrap%22%3A%20false%2C%0A%20%20%20%20%20%20%20%20%22opacity%22%3A%201%2C%0A%20%20%20%20%20%20%20%20%22subdomains%22%3A%20%22abc%22%2C%0A%20%20%20%20%20%20%20%20%22tms%22%3A%20false%0A%7D%29.addTo%28map_ef78146a6cc34b31919d40b31c5fa08a%29%3B%0A%20%20%20%20var%20tile_layer_c5a9d8b4165241c0acd1110d6dd28412%20%3D%20L.tileLayer%28%0A%20%20%20%20%20%20%20%20%27https%3A//earthengine.googleapis.com/v1alpha/projects/earthengine-legacy/maps/afabc49cc932f42cc2cdd149bf28b462-cbf15116af5c8cf3efad006427988ec7/tiles/%7Bz%7D/%7Bx%7D/%7By%7D%27%2C%0A%20%20%20%20%20%20%20%20%7B%0A%20%20%20%20%20%20%20%20%22attribution%22%3A%20%22Map%20Data%20%26copy%3B%20%3Ca%20href%3D%5C%22https%3A//earthengine.google.com/%5C%22%3EGoogle%20Earth%20Engine%3C/a%3E%22%2C%0A%20%20%20%20%20%20%20%20%22detectRetina%22%3A%20false%2C%0A%20%20%20%20%20%20%20%20%22maxNativeZoom%22%3A%2018%2C%0A%20%20%20%20%20%20%20%20%22maxZoom%22%3A%2018%2C%0A%20%20%20%20%20%20%20%20%22minZoom%22%3A%200%2C%0A%20%20%20%20%20%20%20%20%22noWrap%22%3A%20false%2C%0A%20%20%20%20%20%20%20%20%22opacity%22%3A%201%2C%0A%20%20%20%20%20%20%20%20%22subdomains%22%3A%20%22abc%22%2C%0A%20%20%20%20%20%20%20%20%22tms%22%3A%20false%0A%7D%29.addTo%28map_ef78146a6cc34b31919d40b31c5fa08a%29%3B%0A%20%20%20%20var%20tile_layer_7585df13407a4cc49900e3a8f37bb727%20%3D%20L.tileLayer%28%0A%20%20%20%20%20%20%20%20%27https%3A//earthengine.googleapis.com/v1alpha/projects/earthengine-legacy/maps/304fc510497b2b0142966b943d343d1b-402af90d656e541cd8237d323e999812/tiles/%7Bz%7D/%7Bx%7D/%7By%7D%27%2C%0A%20%20%20%20%20%20%20%20%7B%0A%20%20%20%20%20%20%20%20%22attribution%22%3A%20%22Map%20Data%20%26copy%3B%20%3Ca%20href%3D%5C%22https%3A//earthengine.google.com/%5C%22%3EGoogle%20Earth%20Engine%3C/a%3E%22%2C%0A%20%20%20%20%20%20%20%20%22detectRetina%22%3A%20false%2C%0A%20%20%20%20%20%20%20%20%22maxNativeZoom%22%3A%2018%2C%0A%20%20%20%20%20%20%20%20%22maxZoom%22%3A%2018%2C%0A%20%20%20%20%20%20%20%20%22minZoom%22%3A%200%2C%0A%20%20%20%20%20%20%20%20%22noWrap%22%3A%20false%2C%0A%20%20%20%20%20%20%20%20%22opacity%22%3A%201%2C%0A%20%20%20%20%20%20%20%20%22subdomains%22%3A%20%22abc%22%2C%0A%20%20%20%20%20%20%20%20%22tms%22%3A%20false%0A%7D%29.addTo%28map_ef78146a6cc34b31919d40b31c5fa08a%29%3B%0A%20%20%20%20var%20tile_layer_88d8d39722b74bde9c43cc45361f2d71%20%3D%20L.tileLayer%28%0A%20%20%20%20%20%20%20%20%27https%3A//earthengine.googleapis.com/v1alpha/projects/earthengine-legacy/maps/ed22896c2779bbd133ab5599e688aeef-246eb38054aec673c9b3ffbd12189b81/tiles/%7Bz%7D/%7Bx%7D/%7By%7D%27%2C%0A%20%20%20%20%20%20%20%20%7B%0A%20%20%20%20%20%20%20%20%22attribution%22%3A%20%22Map%20Data%20%26copy%3B%20%3Ca%20href%3D%5C%22https%3A//earthengine.google.com/%5C%22%3EGoogle%20Earth%20Engine%3C/a%3E%22%2C%0A%20%20%20%20%20%20%20%20%22detectRetina%22%3A%20false%2C%0A%20%20%20%20%20%20%20%20%22maxNativeZoom%22%3A%2018%2C%0A%20%20%20%20%20%20%20%20%22maxZoom%22%3A%2018%2C%0A%20%20%20%20%20%20%20%20%22minZoom%22%3A%200%2C%0A%20%20%20%20%20%20%20%20%22noWrap%22%3A%20false%2C%0A%20%20%20%20%20%20%20%20%22opacity%22%3A%201%2C%0A%20%20%20%20%20%20%20%20%22subdomains%22%3A%20%22abc%22%2C%0A%20%20%20%20%20%20%20%20%22tms%22%3A%20false%0A%7D%29.addTo%28map_ef78146a6cc34b31919d40b31c5fa08a%29%3B%0A%20%20%20%20%0A%20%20%20%20%20%20%20%20%20%20%20%20var%20layer_control_f4e4973e0d514664b2d04296af78547c%20%3D%20%7B%0A%20%20%20%20%20%20%20%20%20%20%20%20%20%20%20%20base_layers%20%3A%20%7B%20%22openstreetmap%22%20%3A%20tile_layer_8ba7e3ac7db54efda8a85af489100c0e%2C%20%7D%2C%0A%20%20%20%20%20%20%20%20%20%20%20%20%20%20%20%20overlays%20%3A%20%7B%20%22Landsat%208%22%20%3A%20tile_layer_1806dc4eeb5a4877bb9d07e24af96c61%2C%22CART%22%20%3A%20tile_layer_c5a9d8b4165241c0acd1110d6dd28412%2C%22RF%22%20%3A%20tile_layer_7585df13407a4cc49900e3a8f37bb727%2C%22Difference%22%20%3A%20tile_layer_88d8d39722b74bde9c43cc45361f2d71%2C%20%7D%0A%20%20%20%20%20%20%20%20%20%20%20%20%20%20%20%20%7D%3B%0A%20%20%20%20%20%20%20%20%20%20%20%20L.control.layers%28%0A%20%20%20%20%20%20%20%20%20%20%20%20%20%20%20%20layer_control_f4e4973e0d514664b2d04296af78547c.base_layers%2C%0A%20%20%20%20%20%20%20%20%20%20%20%20%20%20%20%20layer_control_f4e4973e0d514664b2d04296af78547c.overlays%2C%0A%20%20%20%20%20%20%20%20%20%20%20%20%20%20%20%20%7Bposition%3A%20%27topright%27%2C%0A%20%20%20%20%20%20%20%20%20%20%20%20%20%20%20%20%20collapsed%3A%20false%2C%0A%20%20%20%20%20%20%20%20%20%20%20%20%20%20%20%20%20autoZIndex%3A%20true%0A%20%20%20%20%20%20%20%20%20%20%20%20%20%20%20%20%7D%29.addTo%28map_ef78146a6cc34b31919d40b31c5fa08a%29%3B%0A%20%20%20%20%20%20%20%20%20%20%20%20%0A%20%20%20%20%20%20%20%20%0A%3C/script%3E onload=\"this.contentDocument.open();this.contentDocument.write(    decodeURIComponent(this.getAttribute('data-html')));this.contentDocument.close();\" allowfullscreen webkitallowfullscreen mozallowfullscreen></iframe></div></div>"
            ],
            "text/plain": [
              "<folium.folium.Map at 0x7f9989f58250>"
            ]
          },
          "metadata": {},
          "execution_count": 97
        }
      ]
    },
    {
      "cell_type": "markdown",
      "metadata": {
        "id": "2QoKypNYZ077"
      },
      "source": [
        "> What problems may there be in using overall accuracy to understand how well a land use classifier is working?"
      ]
    },
    {
      "cell_type": "markdown",
      "metadata": {
        "id": "tEle9TTUaLRl"
      },
      "source": [
        "## Classification challenge\n",
        "**Provide your own training dataset**\n",
        "\n",
        "Using the geometry tools and the Landsat composite as a background, you can digitize training polygons and add a land cover class for the classifiers.\n",
        "\n",
        "* Go to the Earth Engine  [console](https://code.earthengine.google.com/)  and look for an aerea to run the classification.\n",
        "\n",
        "* Draw a polygon around a bare ground area, then  [configure the import](https://developers.google.com/earth-engine/playground#geometry-tools) .  Import as Feature, then click **+ New property**.  Name the new property ‘class’ and give it a value of 0.  The dialog should show **class**: 0.  Name the import 'urban’. When doing this you might find it helpful to use the *Satellite* basemap instead of *Map*\n",
        "\n",
        "* \t**+ new layer** > Draw a polygon around vegetation > import as Feature > add a property > name it ‘class’ and give it a value of 1.  Name the import 'vegetation'.  \n",
        "\n",
        "* **+ new layer** > Draw a polygon around water > import as Feature > add a property > again, name it ‘class’ and give it a value of 2.  Name the import 'water'.  \n",
        "\n",
        "* Once you have your polygons, go to the top of the code editor and click the `import` button. This will display the features that you created manually. Copy everything between `ee.Feature()` and paste it into the code editor below. Before loading make sure to delete the semicolons `;` as well as the colour references (`/*....*/`)\n",
        "\n",
        "![](https://i.imgur.com/f3koL9M.gif)\n",
        "\n",
        "You should have three `Feature` objects named 'urban’, 'vegetation' and 'water'.  Merge them into one `FeatureCollection` \n"
      ]
    },
    {
      "cell_type": "code",
      "metadata": {
        "id": "OqyGXl-VavXz",
        "colab": {
          "base_uri": "https://localhost:8080/"
        },
        "outputId": "8b5a0224-885c-449e-f03f-6bee74ccffd8"
      },
      "source": [
        "# Paste the polygons coordinates below:\n",
        "urban =  ee.Feature(ee.Geometry.Polygon(\n",
        "            [[[114.16690221983436, 22.316122884862597],\n",
        "              [114.17162290770057, 22.31727421229202],\n",
        "              [114.17037836271766, 22.322832211118936],\n",
        "              [114.16535726744178, 22.32255431643468]]]),\n",
        "        {\n",
        "          \"class\": 0,\n",
        "          \"system:index\": \"0\"\n",
        "        })\n",
        "vegetation = ee.Feature(ee.Geometry.Polygon(\n",
        "            [[[114.18828451021257, 22.356921536673156],\n",
        "              [114.19596635683122, 22.360215725876717],\n",
        "              [114.19824087007585, 22.363946400291407],\n",
        "              [114.18772661073747, 22.36307327268377]]]),\n",
        "        {\n",
        "          \"class\": 1,\n",
        "          \"system:index\": \"0\"\n",
        "        })\n",
        "water = ee.Feature(ee.Geometry.Polygon(\n",
        "            [[[114.08557250362693, 22.30192948459409],\n",
        "              [114.10754515987693, 22.293591155286244],\n",
        "              [114.11106421810447, 22.30717046542427],\n",
        "              [114.0959580169326, 22.309870287884163]]]),\n",
        "        {\n",
        "          \"class\": 2,\n",
        "          \"system:index\": \"0\"\n",
        "        })\n",
        "\n",
        "lc_classes = ee.FeatureCollection([urban,vegetation,water])\n",
        "lc_classes.getInfo()"
      ],
      "execution_count": 98,
      "outputs": [
        {
          "output_type": "execute_result",
          "data": {
            "text/plain": [
              "{'columns': {'class': 'Integer', 'system:index': 'String'},\n",
              " 'features': [{'geometry': {'coordinates': [[[114.16690221983436,\n",
              "       22.316122884862597],\n",
              "      [114.17162290770057, 22.31727421229202],\n",
              "      [114.17037836271766, 22.322832211118936],\n",
              "      [114.16535726744178, 22.32255431643468],\n",
              "      [114.16690221983436, 22.316122884862597]]],\n",
              "    'type': 'Polygon'},\n",
              "   'id': '0',\n",
              "   'properties': {'class': 0},\n",
              "   'type': 'Feature'},\n",
              "  {'geometry': {'coordinates': [[[114.18828451021257, 22.356921536673156],\n",
              "      [114.19596635683122, 22.360215725876717],\n",
              "      [114.19824087007585, 22.363946400291407],\n",
              "      [114.18772661073747, 22.36307327268377],\n",
              "      [114.18828451021257, 22.356921536673156]]],\n",
              "    'type': 'Polygon'},\n",
              "   'id': '1',\n",
              "   'properties': {'class': 1},\n",
              "   'type': 'Feature'},\n",
              "  {'geometry': {'coordinates': [[[114.08557250362693, 22.30192948459409],\n",
              "      [114.10754515987693, 22.293591155286244],\n",
              "      [114.11106421810447, 22.30717046542427],\n",
              "      [114.0959580169326, 22.309870287884163],\n",
              "      [114.08557250362693, 22.30192948459409]]],\n",
              "    'type': 'Polygon'},\n",
              "   'id': '2',\n",
              "   'properties': {'class': 2},\n",
              "   'type': 'Feature'}],\n",
              " 'type': 'FeatureCollection'}"
            ]
          },
          "metadata": {},
          "execution_count": 98
        }
      ]
    },
    {
      "cell_type": "markdown",
      "metadata": {
        "id": "6QTQTf2HcevH"
      },
      "source": [
        "You can now generate training pixels and run the classifiers"
      ]
    },
    {
      "cell_type": "code",
      "metadata": {
        "id": "hR41FUwOcXQ7"
      },
      "source": [
        "training = image.select(bands).sampleRegions(\n",
        "  collection= lc_classes,\n",
        "  properties= ['class'],\n",
        "  scale= 30\n",
        ");\n",
        "\n",
        "classifier = ee.Classifier.smileCart().train(\n",
        "  features= training,\n",
        "  classProperty= 'class',\n",
        "  inputProperties= bands\n",
        ")\n"
      ],
      "execution_count": 99,
      "outputs": []
    },
    {
      "cell_type": "markdown",
      "metadata": {
        "id": "gTWZzYA9cVUG"
      },
      "source": [
        "**Plotting the model predictions**\n",
        "\n",
        "\n",
        "As shown in the previous example, Earth Engine will attempt to make a prediction on the whole globe when we run the classification algorithm. We can constrain this to our area of interest by clipping the prediction image. We show how to do this in the snippet below. To run this make sure you first create a roi using the rectangle feature so as to delimit the are where the predictions will be made (example provided below): \n"
      ]
    },
    {
      "cell_type": "code",
      "metadata": {
        "colab": {
          "base_uri": "https://localhost:8080/",
          "height": 1000
        },
        "id": "NgU5B6jCcpEa",
        "outputId": "6a42a8de-2f5a-4171-8e17-e865850bccad"
      },
      "source": [
        "roi =  ee.Geometry.Polygon(\n",
        "        [[[114.07665098634588, 22.377439895086095],\n",
        "          [114.07665098634588, 22.284390372489472],\n",
        "          [114.21535337892401, 22.284390372489472],\n",
        "          [114.21535337892401, 22.377439895086095]]])\n",
        "\n",
        "# get coordinates to center the map\n",
        "lon=roi.centroid().getInfo()['coordinates'][0]\n",
        "lat=roi.centroid().getInfo()['coordinates'][1]\n",
        "\n",
        "classified = image.select(bands).classify(classifier).clip(roi)\n",
        "# remap categories for plotting\n",
        "classified = classified.remap([0,1,2],[1,2,3])\n",
        "\n",
        "\n",
        "# Set visualization parameters\n",
        "cart_vis_params = {\"palette\": [\"red\",\"green\",\"blue\",]}\n",
        "\n",
        "# Arrange layers \n",
        "ee_tiles = [classified]\n",
        "\n",
        "# Arrange visualization parameters inside a list.\n",
        "ee_vis_params = [cart_vis_params]\n",
        "\n",
        "# Arrange layer names inside a list.\n",
        "ee_tiles_names = ['CART']\n",
        "\n",
        "\n",
        "my_map = folium.Map(location=[lat, lon], zoom_start=14)\n",
        "\n",
        "# Add layers to the map using a loop.\n",
        "for tile, vis_param, name in zip(ee_tiles, ee_vis_params, ee_tiles_names):\n",
        "    my_map.add_ee_layer(tile, vis_param, name)\n",
        "\n",
        "folium.LayerControl(collapsed = False).add_to(my_map)\n",
        "\n",
        "my_map\n"
      ],
      "execution_count": 100,
      "outputs": [
        {
          "output_type": "execute_result",
          "data": {
            "text/html": [
              "<div style=\"width:100%;\"><div style=\"position:relative;width:100%;height:0;padding-bottom:60%;\"><span style=\"color:#565656\">Make this Notebook Trusted to load map: File -> Trust Notebook</span><iframe src=\"about:blank\" style=\"position:absolute;width:100%;height:100%;left:0;top:0;border:none !important;\" data-html=%3C%21DOCTYPE%20html%3E%0A%3Chead%3E%20%20%20%20%0A%20%20%20%20%3Cmeta%20http-equiv%3D%22content-type%22%20content%3D%22text/html%3B%20charset%3DUTF-8%22%20/%3E%0A%20%20%20%20%3Cscript%3EL_PREFER_CANVAS%3Dfalse%3B%20L_NO_TOUCH%3Dfalse%3B%20L_DISABLE_3D%3Dfalse%3B%3C/script%3E%0A%20%20%20%20%3Cscript%20src%3D%22https%3A//cdn.jsdelivr.net/npm/leaflet%401.4.0/dist/leaflet.js%22%3E%3C/script%3E%0A%20%20%20%20%3Cscript%20src%3D%22https%3A//code.jquery.com/jquery-1.12.4.min.js%22%3E%3C/script%3E%0A%20%20%20%20%3Cscript%20src%3D%22https%3A//maxcdn.bootstrapcdn.com/bootstrap/3.2.0/js/bootstrap.min.js%22%3E%3C/script%3E%0A%20%20%20%20%3Cscript%20src%3D%22https%3A//cdnjs.cloudflare.com/ajax/libs/Leaflet.awesome-markers/2.0.2/leaflet.awesome-markers.js%22%3E%3C/script%3E%0A%20%20%20%20%3Clink%20rel%3D%22stylesheet%22%20href%3D%22https%3A//cdn.jsdelivr.net/npm/leaflet%401.4.0/dist/leaflet.css%22/%3E%0A%20%20%20%20%3Clink%20rel%3D%22stylesheet%22%20href%3D%22https%3A//maxcdn.bootstrapcdn.com/bootstrap/3.2.0/css/bootstrap.min.css%22/%3E%0A%20%20%20%20%3Clink%20rel%3D%22stylesheet%22%20href%3D%22https%3A//maxcdn.bootstrapcdn.com/bootstrap/3.2.0/css/bootstrap-theme.min.css%22/%3E%0A%20%20%20%20%3Clink%20rel%3D%22stylesheet%22%20href%3D%22https%3A//maxcdn.bootstrapcdn.com/font-awesome/4.6.3/css/font-awesome.min.css%22/%3E%0A%20%20%20%20%3Clink%20rel%3D%22stylesheet%22%20href%3D%22https%3A//cdnjs.cloudflare.com/ajax/libs/Leaflet.awesome-markers/2.0.2/leaflet.awesome-markers.css%22/%3E%0A%20%20%20%20%3Clink%20rel%3D%22stylesheet%22%20href%3D%22https%3A//rawcdn.githack.com/python-visualization/folium/master/folium/templates/leaflet.awesome.rotate.css%22/%3E%0A%20%20%20%20%3Cstyle%3Ehtml%2C%20body%20%7Bwidth%3A%20100%25%3Bheight%3A%20100%25%3Bmargin%3A%200%3Bpadding%3A%200%3B%7D%3C/style%3E%0A%20%20%20%20%3Cstyle%3E%23map%20%7Bposition%3Aabsolute%3Btop%3A0%3Bbottom%3A0%3Bright%3A0%3Bleft%3A0%3B%7D%3C/style%3E%0A%20%20%20%20%0A%20%20%20%20%3Cmeta%20name%3D%22viewport%22%20content%3D%22width%3Ddevice-width%2C%0A%20%20%20%20%20%20%20%20initial-scale%3D1.0%2C%20maximum-scale%3D1.0%2C%20user-scalable%3Dno%22%20/%3E%0A%20%20%20%20%3Cstyle%3E%23map_00fea02596d440d2a50933caa2f84ed0%20%7B%0A%20%20%20%20%20%20%20%20position%3A%20relative%3B%0A%20%20%20%20%20%20%20%20width%3A%20100.0%25%3B%0A%20%20%20%20%20%20%20%20height%3A%20100.0%25%3B%0A%20%20%20%20%20%20%20%20left%3A%200.0%25%3B%0A%20%20%20%20%20%20%20%20top%3A%200.0%25%3B%0A%20%20%20%20%20%20%20%20%7D%0A%20%20%20%20%3C/style%3E%0A%3C/head%3E%0A%3Cbody%3E%20%20%20%20%0A%20%20%20%20%0A%20%20%20%20%3Cdiv%20class%3D%22folium-map%22%20id%3D%22map_00fea02596d440d2a50933caa2f84ed0%22%20%3E%3C/div%3E%0A%3C/body%3E%0A%3Cscript%3E%20%20%20%20%0A%20%20%20%20%0A%20%20%20%20%0A%20%20%20%20%20%20%20%20var%20bounds%20%3D%20null%3B%0A%20%20%20%20%0A%0A%20%20%20%20var%20map_00fea02596d440d2a50933caa2f84ed0%20%3D%20L.map%28%0A%20%20%20%20%20%20%20%20%27map_00fea02596d440d2a50933caa2f84ed0%27%2C%20%7B%0A%20%20%20%20%20%20%20%20center%3A%20%5B22.330924712477668%2C%20114.14600218263449%5D%2C%0A%20%20%20%20%20%20%20%20zoom%3A%2014%2C%0A%20%20%20%20%20%20%20%20maxBounds%3A%20bounds%2C%0A%20%20%20%20%20%20%20%20layers%3A%20%5B%5D%2C%0A%20%20%20%20%20%20%20%20worldCopyJump%3A%20false%2C%0A%20%20%20%20%20%20%20%20crs%3A%20L.CRS.EPSG3857%2C%0A%20%20%20%20%20%20%20%20zoomControl%3A%20true%2C%0A%20%20%20%20%20%20%20%20%7D%29%3B%0A%0A%0A%20%20%20%20%0A%20%20%20%20var%20tile_layer_915e757dbde5457a90fae06346ba1cb2%20%3D%20L.tileLayer%28%0A%20%20%20%20%20%20%20%20%27https%3A//%7Bs%7D.tile.openstreetmap.org/%7Bz%7D/%7Bx%7D/%7By%7D.png%27%2C%0A%20%20%20%20%20%20%20%20%7B%0A%20%20%20%20%20%20%20%20%22attribution%22%3A%20null%2C%0A%20%20%20%20%20%20%20%20%22detectRetina%22%3A%20false%2C%0A%20%20%20%20%20%20%20%20%22maxNativeZoom%22%3A%2018%2C%0A%20%20%20%20%20%20%20%20%22maxZoom%22%3A%2018%2C%0A%20%20%20%20%20%20%20%20%22minZoom%22%3A%200%2C%0A%20%20%20%20%20%20%20%20%22noWrap%22%3A%20false%2C%0A%20%20%20%20%20%20%20%20%22opacity%22%3A%201%2C%0A%20%20%20%20%20%20%20%20%22subdomains%22%3A%20%22abc%22%2C%0A%20%20%20%20%20%20%20%20%22tms%22%3A%20false%0A%7D%29.addTo%28map_00fea02596d440d2a50933caa2f84ed0%29%3B%0A%20%20%20%20var%20tile_layer_d20aba783dbc40debc7439469b247c72%20%3D%20L.tileLayer%28%0A%20%20%20%20%20%20%20%20%27https%3A//earthengine.googleapis.com/v1alpha/projects/earthengine-legacy/maps/60d5d6323ce5c25336bb47ed26520ba0-f813afb4b384f04367c28cc2a6bfd683/tiles/%7Bz%7D/%7Bx%7D/%7By%7D%27%2C%0A%20%20%20%20%20%20%20%20%7B%0A%20%20%20%20%20%20%20%20%22attribution%22%3A%20%22Map%20Data%20%26copy%3B%20%3Ca%20href%3D%5C%22https%3A//earthengine.google.com/%5C%22%3EGoogle%20Earth%20Engine%3C/a%3E%22%2C%0A%20%20%20%20%20%20%20%20%22detectRetina%22%3A%20false%2C%0A%20%20%20%20%20%20%20%20%22maxNativeZoom%22%3A%2018%2C%0A%20%20%20%20%20%20%20%20%22maxZoom%22%3A%2018%2C%0A%20%20%20%20%20%20%20%20%22minZoom%22%3A%200%2C%0A%20%20%20%20%20%20%20%20%22noWrap%22%3A%20false%2C%0A%20%20%20%20%20%20%20%20%22opacity%22%3A%201%2C%0A%20%20%20%20%20%20%20%20%22subdomains%22%3A%20%22abc%22%2C%0A%20%20%20%20%20%20%20%20%22tms%22%3A%20false%0A%7D%29.addTo%28map_00fea02596d440d2a50933caa2f84ed0%29%3B%0A%20%20%20%20%0A%20%20%20%20%20%20%20%20%20%20%20%20var%20layer_control_000d1d896e624c9da453ae13bcd73bf1%20%3D%20%7B%0A%20%20%20%20%20%20%20%20%20%20%20%20%20%20%20%20base_layers%20%3A%20%7B%20%22openstreetmap%22%20%3A%20tile_layer_915e757dbde5457a90fae06346ba1cb2%2C%20%7D%2C%0A%20%20%20%20%20%20%20%20%20%20%20%20%20%20%20%20overlays%20%3A%20%7B%20%22CART%22%20%3A%20tile_layer_d20aba783dbc40debc7439469b247c72%2C%20%7D%0A%20%20%20%20%20%20%20%20%20%20%20%20%20%20%20%20%7D%3B%0A%20%20%20%20%20%20%20%20%20%20%20%20L.control.layers%28%0A%20%20%20%20%20%20%20%20%20%20%20%20%20%20%20%20layer_control_000d1d896e624c9da453ae13bcd73bf1.base_layers%2C%0A%20%20%20%20%20%20%20%20%20%20%20%20%20%20%20%20layer_control_000d1d896e624c9da453ae13bcd73bf1.overlays%2C%0A%20%20%20%20%20%20%20%20%20%20%20%20%20%20%20%20%7Bposition%3A%20%27topright%27%2C%0A%20%20%20%20%20%20%20%20%20%20%20%20%20%20%20%20%20collapsed%3A%20false%2C%0A%20%20%20%20%20%20%20%20%20%20%20%20%20%20%20%20%20autoZIndex%3A%20true%0A%20%20%20%20%20%20%20%20%20%20%20%20%20%20%20%20%7D%29.addTo%28map_00fea02596d440d2a50933caa2f84ed0%29%3B%0A%20%20%20%20%20%20%20%20%20%20%20%20%0A%20%20%20%20%20%20%20%20%0A%3C/script%3E onload=\"this.contentDocument.open();this.contentDocument.write(    decodeURIComponent(this.getAttribute('data-html')));this.contentDocument.close();\" allowfullscreen webkitallowfullscreen mozallowfullscreen></iframe></div></div>"
            ],
            "text/plain": [
              "<folium.folium.Map at 0x7f998a0bb210>"
            ]
          },
          "metadata": {},
          "execution_count": 100
        }
      ]
    },
    {
      "cell_type": "markdown",
      "metadata": {
        "id": "LZNLIJckSq4W"
      },
      "source": [
        "**Can you improve the accuracy of the classifier?**\n",
        "\n",
        "- Other classifiers.  Try some of the other classifier types in Earth Engine to see if the result is better or different. Why might some predict more accurately than others ? Which ML methods would be best? See who can get the highest accuracy!\n",
        "- Different (more) training data. Try adjusting the shape and/or size of your training polygons to have a more representative sample of your classes.\n",
        "Add more predictors. Try adding spectral indices to the input variables (e.g. by selecting a different satellite collection)\n",
        "\n",
        "\n",
        "**Acknowledgements**\n",
        "\n",
        "This practical was developed with content adapted from [Classification in Earth Engine](https://developers.google.com/earth-engine/classification) and [An Intro to the Earth Engine Python API](https://colab.research.google.com/github/google/earthengine-community/blob/master/tutorials/intro-to-python-api-guiattard/index.ipynb) "
      ]
    }
  ]
}